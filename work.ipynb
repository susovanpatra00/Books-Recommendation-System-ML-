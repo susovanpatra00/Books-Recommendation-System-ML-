{
 "cells": [
  {
   "cell_type": "markdown",
   "metadata": {},
   "source": [
    "### Types of Recommendation System\n",
    "\n",
    "1. **Content-Based Recommendation System:**\n",
    "   - **Description:** Content-based recommendation systems recommend items similar to those the user has liked or interacted with in the past. The recommendations are based on the attributes or features of the items themselves.\n",
    "   - **Example:** Consider a movie streaming platform where users have rated movies they've watched. A content-based recommendation system can recommend similar movies based on attributes such as genre, actors, directors, and plot keywords. For example, if a user has watched and rated several action movies starring a particular actor, the system can recommend other action movies featuring the same actor.\n",
    "\n",
    "2. **Collaborative Filtering Recommendation System:**\n",
    "   - **Description:** Collaborative filtering recommendation systems make recommendations by analyzing the interactions and preferences of multiple users. It identifies patterns and similarities among users or items to generate recommendations.\n",
    "   - **Example:** In a collaborative filtering system for e-commerce, if User A and User B have similar purchase histories and preferences, the system can recommend products to User A that User B has previously purchased and liked. Similarly, if User A has purchased items that are frequently co-purchased with other items, the system can recommend those related items to User A.\n",
    "\n",
    "3. **Hybrid Recommendation System:**\n",
    "   - **Description:** Hybrid recommendation systems combine multiple recommendation techniques, such as content-based filtering, collaborative filtering, and other approaches, to provide more accurate and diverse recommendations.\n",
    "   - **Example:** A music streaming service may use a hybrid recommendation system that combines collaborative filtering (based on user listening history and preferences) with content-based filtering (based on music genre, artist similarity, etc.). Additionally, it may incorporate contextual information such as user location, time of day, and mood to further personalize recommendations. This hybrid approach can offer more accurate and relevant music recommendations tailored to each user's individual preferences and context.\n"
   ]
  },
  {
   "cell_type": "markdown",
   "metadata": {},
   "source": [
    "### In our project we will use Collaborative Method"
   ]
  },
  {
   "cell_type": "markdown",
   "metadata": {
    "vscode": {
     "languageId": "plaintext"
    }
   },
   "source": [
    "## Import Libraries"
   ]
  },
  {
   "cell_type": "code",
   "execution_count": 1,
   "metadata": {},
   "outputs": [
    {
     "ename": "ModuleNotFoundError",
     "evalue": "No module named 'numpy'",
     "output_type": "error",
     "traceback": [
      "\u001b[0;31m---------------------------------------------------------------------------\u001b[0m",
      "\u001b[0;31mModuleNotFoundError\u001b[0m                       Traceback (most recent call last)",
      "Cell \u001b[0;32mIn[1], line 1\u001b[0m\n\u001b[0;32m----> 1\u001b[0m \u001b[38;5;28;01mimport\u001b[39;00m \u001b[38;5;21;01mnumpy\u001b[39;00m \u001b[38;5;28;01mas\u001b[39;00m \u001b[38;5;21;01mnp\u001b[39;00m\n\u001b[1;32m      2\u001b[0m \u001b[38;5;28;01mimport\u001b[39;00m \u001b[38;5;21;01mpandas\u001b[39;00m \u001b[38;5;28;01mas\u001b[39;00m \u001b[38;5;21;01mpd\u001b[39;00m\n\u001b[1;32m      3\u001b[0m \u001b[38;5;28;01mimport\u001b[39;00m \u001b[38;5;21;01mmatplotlib\u001b[39;00m\u001b[38;5;21;01m.\u001b[39;00m\u001b[38;5;21;01mpyplot\u001b[39;00m \u001b[38;5;28;01mas\u001b[39;00m \u001b[38;5;21;01mplt\u001b[39;00m\n",
      "\u001b[0;31mModuleNotFoundError\u001b[0m: No module named 'numpy'"
     ]
    }
   ],
   "source": [
    "import numpy as np\n",
    "import pandas as pd\n",
    "import matplotlib.pyplot as plt\n",
    "import seaborn as sns"
   ]
  },
  {
   "cell_type": "code",
   "execution_count": null,
   "metadata": {},
   "outputs": [],
   "source": [
    "books = pd.read_"
   ]
  }
 ],
 "metadata": {
  "kernelspec": {
   "display_name": "Book",
   "language": "python",
   "name": "python3"
  },
  "language_info": {
   "codemirror_mode": {
    "name": "ipython",
    "version": 3
   },
   "file_extension": ".py",
   "mimetype": "text/x-python",
   "name": "python",
   "nbconvert_exporter": "python",
   "pygments_lexer": "ipython3",
   "version": "3.10.0"
  }
 },
 "nbformat": 4,
 "nbformat_minor": 2
}
